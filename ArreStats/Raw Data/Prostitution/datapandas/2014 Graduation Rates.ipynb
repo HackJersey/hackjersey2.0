{
 "metadata": {
  "name": "",
  "signature": "sha256:e2515b47de35f95aa4bf7ba81f89bc57e0f9dcb5aed388f1a11535b27f35173e"
 },
 "nbformat": 3,
 "nbformat_minor": 0,
 "worksheets": [
  {
   "cells": [
    {
     "cell_type": "code",
     "collapsed": false,
     "input": [
      "import pandas as pd\n",
      "datafile = \"njaccidents.csv\"\n",
      "accframe = pd.read_csv(datafile)"
     ],
     "language": "python",
     "metadata": {},
     "outputs": []
    },
    {
     "cell_type": "code",
     "collapsed": false,
     "input": [],
     "language": "python",
     "metadata": {},
     "outputs": []
    }
   ],
   "metadata": {}
  }
 ]
}
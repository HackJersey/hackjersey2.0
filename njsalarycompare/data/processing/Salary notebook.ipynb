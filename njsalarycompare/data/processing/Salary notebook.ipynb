{
 "metadata": {
  "name": "",
  "signature": "sha256:5a41dd9559e5533fcec0f5f3ba69cf22affc4601b48b9f91849b58813130be0d"
 },
 "nbformat": 3,
 "nbformat_minor": 0,
 "worksheets": [
  {
   "cells": [
    {
     "cell_type": "code",
     "collapsed": false,
     "input": [
      "import pandas as pd"
     ],
     "language": "python",
     "metadata": {},
     "outputs": [],
     "prompt_number": 180
    },
    {
     "cell_type": "code",
     "collapsed": false,
     "input": [
      "salary_data = \"oesdata14/oesm14ma/MSA_M2014_dl.xlsx\""
     ],
     "language": "python",
     "metadata": {},
     "outputs": [],
     "prompt_number": 181
    },
    {
     "cell_type": "code",
     "collapsed": false,
     "input": [
      "salframe = pd.read_excel(salary_data)"
     ],
     "language": "python",
     "metadata": {},
     "outputs": [],
     "prompt_number": 182
    },
    {
     "cell_type": "code",
     "collapsed": false,
     "input": [
      "mystatesframe = salframe[(salframe.PRIM_STATE=='NJ')|(salframe.PRIM_STATE=='PA')|(salframe.PRIM_STATE=='DE')|(salframe.PRIM_STATE=='NY')]"
     ],
     "language": "python",
     "metadata": {},
     "outputs": [],
     "prompt_number": 183
    },
    {
     "cell_type": "code",
     "collapsed": false,
     "input": [
      "myalloccframe = mystatesframe[njframe.OCC_TITLE == 'All Occupations']"
     ],
     "language": "python",
     "metadata": {},
     "outputs": [],
     "prompt_number": 184
    },
    {
     "cell_type": "code",
     "collapsed": false,
     "input": [
      "njalloccframe=myalloccframe[myallframe['AREA_NAME'].str.contains('NJ')]"
     ],
     "language": "python",
     "metadata": {},
     "outputs": [],
     "prompt_number": 185
    },
    {
     "cell_type": "code",
     "collapsed": false,
     "input": [
      "njourframe = njallframe.ix[:,['AREA', 'AREA_NAME', 'TOT_EMP', 'A_MEDIAN']]"
     ],
     "language": "python",
     "metadata": {},
     "outputs": [],
     "prompt_number": 186
    },
    {
     "cell_type": "code",
     "collapsed": false,
     "input": [
      "njmsds=njourframe[njourframe.AREA_NAME.str.contains('Division')]\n",
      "njmsa=njourframe[njourframe['AREA_NAME'].str.endswith('NJ')]"
     ],
     "language": "python",
     "metadata": {},
     "outputs": [],
     "prompt_number": 187
    },
    {
     "cell_type": "code",
     "collapsed": false,
     "input": [
      "msa_data = \"msacounties.csv\"\n",
      "msd_data = \"msdcounties.csv\""
     ],
     "language": "python",
     "metadata": {},
     "outputs": [],
     "prompt_number": 188
    },
    {
     "cell_type": "code",
     "collapsed": false,
     "input": [
      "msaframe = pd.read_csv(msa_data, names = ['ID', 'MSA Name', 'FIPS', 'County Name'], skipfooter=2)\n",
      "msdframe = pd.read_csv(msd_data, names = ['ID', 'MSA Name', 'FIPS', 'County Name'], skipfooter=2)"
     ],
     "language": "python",
     "metadata": {},
     "outputs": [],
     "prompt_number": 189
    },
    {
     "cell_type": "code",
     "collapsed": false,
     "input": [
      "msdframe.ID[msdframe.ID==35614]=35644"
     ],
     "language": "python",
     "metadata": {},
     "outputs": [],
     "prompt_number": 190
    },
    {
     "cell_type": "code",
     "collapsed": false,
     "input": [
      "joinedmsaframe = pd.merge(njmsa, msaframe, left_on='AREA', right_on='ID', how='inner')"
     ],
     "language": "python",
     "metadata": {},
     "outputs": [],
     "prompt_number": 191
    },
    {
     "cell_type": "code",
     "collapsed": false,
     "input": [
      "joinedmsdframe = pd.merge(njmsds, msdframe, left_on='AREA', right_on='ID', how='inner') "
     ],
     "language": "python",
     "metadata": {},
     "outputs": [],
     "prompt_number": 192
    },
    {
     "cell_type": "code",
     "collapsed": true,
     "input": [
      "njmsds = joinedmsdframe[joinedmsdframe['County Name'].str.contains('NJ')]"
     ],
     "language": "python",
     "metadata": {},
     "outputs": [],
     "prompt_number": 193
    },
    {
     "cell_type": "code",
     "collapsed": false,
     "input": [
      "njmsas= joinedmsaframe[joinedmsaframe['County Name'].str.contains('NJ')]"
     ],
     "language": "python",
     "metadata": {},
     "outputs": [],
     "prompt_number": 194
    },
    {
     "cell_type": "code",
     "collapsed": false,
     "input": [
      "mycounties = njmsds.append(njmsas)"
     ],
     "language": "python",
     "metadata": {},
     "outputs": [],
     "prompt_number": 195
    },
    {
     "cell_type": "code",
     "collapsed": false,
     "input": [
      "mediansals = mycounties.ix[:, ['FIPS', 'County Name', 'A_MEDIAN']]\n",
      "mediansals['County Name']=mediansals['County Name'].map(str.strip)"
     ],
     "language": "python",
     "metadata": {},
     "outputs": [],
     "prompt_number": 220
    },
    {
     "cell_type": "code",
     "collapsed": false,
     "input": [
      "mediansals['County Name'] = mediansals['County Name'].map(str.upper)"
     ],
     "language": "python",
     "metadata": {},
     "outputs": [],
     "prompt_number": 221
    },
    {
     "cell_type": "code",
     "collapsed": false,
     "input": [
      "mediansals['County Name'] = mediansals['County Name'].apply(lambda x: x.split(',')[0]+ ' COUNTY')"
     ],
     "language": "python",
     "metadata": {},
     "outputs": [],
     "prompt_number": 232
    },
    {
     "cell_type": "code",
     "collapsed": false,
     "input": [
      "mediansals.to_csv('county_median_sals.csv', index=False)"
     ],
     "language": "python",
     "metadata": {},
     "outputs": [],
     "prompt_number": 233
    },
    {
     "cell_type": "code",
     "collapsed": false,
     "input": [],
     "language": "python",
     "metadata": {},
     "outputs": []
    }
   ],
   "metadata": {}
  }
 ]
}
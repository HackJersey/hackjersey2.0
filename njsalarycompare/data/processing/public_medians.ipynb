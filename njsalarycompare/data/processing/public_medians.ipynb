{
 "metadata": {
  "name": "",
  "signature": "sha256:e5cb282cdb9b4cec1123686ec5536724e8ec7f1b5ff77ed23fc9c9bec8211f1b"
 },
 "nbformat": 3,
 "nbformat_minor": 0,
 "worksheets": [
  {
   "cells": [
    {
     "cell_type": "code",
     "collapsed": false,
     "input": [
      "import json\n",
      "import pandas as pd"
     ],
     "language": "python",
     "metadata": {},
     "outputs": [],
     "prompt_number": 24
    },
    {
     "cell_type": "code",
     "collapsed": false,
     "input": [
      "active_pensions = \"active_pensions.csv\""
     ],
     "language": "python",
     "metadata": {},
     "outputs": [],
     "prompt_number": 2
    },
    {
     "cell_type": "code",
     "collapsed": false,
     "input": [
      "apframe = pd.read_csv(active_pensions)"
     ],
     "language": "python",
     "metadata": {},
     "outputs": [],
     "prompt_number": 9
    },
    {
     "cell_type": "code",
     "collapsed": false,
     "input": [
      "apframe.MEMBER_MI=apframe.MEMBER_MI.fillna(value='none')\n",
      "apframe.MEMBER_LAST_NAME = apframe.MEMBER_LAST_NAME.fillna(value='none')\n",
      "apframe.MEMBER_FIRST_NAME = apframe.MEMBER_FIRST_NAME.fillna(value='none')\n",
      "apframe.ALL_EMPLOYERS_SALARY_AMT=apframe.ALL_EMPLOYERS_SALARY_AMT.apply(lambda x: float(x[1:]))"
     ],
     "language": "python",
     "metadata": {},
     "outputs": [],
     "prompt_number": 10
    },
    {
     "cell_type": "code",
     "collapsed": false,
     "input": [
      "deduped = apframe.drop_duplicates(['MEMBER_LAST_NAME', 'MEMBER_FIRST_NAME', 'MEMBER_MI', 'BIRTH_YEAR'])"
     ],
     "language": "python",
     "metadata": {},
     "outputs": [],
     "prompt_number": 11
    },
    {
     "cell_type": "code",
     "collapsed": false,
     "input": [
      "statewide = deduped[deduped.LOCATION_NAME=='STATEWIDE']"
     ],
     "language": "python",
     "metadata": {},
     "outputs": [],
     "prompt_number": 14
    },
    {
     "cell_type": "code",
     "collapsed": false,
     "input": [
      "state_median = statewide.ALL_EMPLOYERS_SALARY_AMT.median()"
     ],
     "language": "python",
     "metadata": {},
     "outputs": [],
     "prompt_number": 15
    },
    {
     "cell_type": "code",
     "collapsed": false,
     "input": [
      "rest = apframe[apframe.LOCATION_NAME!=\"STATEWIDE\"]"
     ],
     "language": "python",
     "metadata": {},
     "outputs": [],
     "prompt_number": 16
    },
    {
     "cell_type": "code",
     "collapsed": false,
     "input": [
      "counties = rest.LOCATION_NAME.unique()\n",
      "data_list = {}"
     ],
     "language": "python",
     "metadata": {},
     "outputs": [],
     "prompt_number": 17
    },
    {
     "cell_type": "code",
     "collapsed": false,
     "input": [
      "county_meds = \"county_median_sals.csv\"\n",
      "overall_medians = pd.read_csv(county_meds, dtype={'FIPS':'str'})"
     ],
     "language": "python",
     "metadata": {},
     "outputs": [],
     "prompt_number": 18
    },
    {
     "cell_type": "code",
     "collapsed": false,
     "input": [
      "combined=pd.merge(rest, overall_medians, left_on=\"LOCATION_NAME\", right_on=\"County Name\", how=\"left\")"
     ],
     "language": "python",
     "metadata": {},
     "outputs": [],
     "prompt_number": 19
    },
    {
     "cell_type": "code",
     "collapsed": false,
     "input": [
      "for county in counties:\n",
      "    if county=='REGIONAL':\n",
      "        pass\n",
      "    else:\n",
      "        FIPS = combined.FIPS[combined.LOCATION_NAME==county].unique()[0]\n",
      "        county_dict={}\n",
      "        this_county = combined[combined.LOCATION_NAME==county]\n",
      "        teachers = this_county[this_county.PENSION_FUND_ID==1]\n",
      "        public = this_county[this_county.PENSION_FUND_ID==2]\n",
      "        copsfire = this_county[this_county.PENSION_FUND_ID==3]\n",
      "        teach_med = teachers.ALL_EMPLOYERS_SALARY_AMT.median()\n",
      "        public_med = public.ALL_EMPLOYERS_SALARY_AMT.median()\n",
      "        cops_med = copsfire[copsfire.PENSION_GROUP_ID==1].ALL_EMPLOYERS_SALARY_AMT.median()\n",
      "        fire_med = copsfire[copsfire.PENSION_GROUP_ID==2].ALL_EMPLOYERS_SALARY_AMT.median()\n",
      "        overall=this_county.A_MEDIAN.unique()\n",
      "        county_dict['OVERALL']=overall[0]\n",
      "        county_dict['COUNTY']=county\n",
      "        county_dict['STATEWIDE']=state_median\n",
      "        county_dict['PUBLIC_EMPLOYEES']=public_med\n",
      "        county_dict['TEACHERS']=teach_med\n",
      "        county_dict['POLICE']=cops_med\n",
      "        county_dict['FIRE']=fire_med\n",
      "        data_list[FIPS]=county_dict\n"
     ],
     "language": "python",
     "metadata": {},
     "outputs": [],
     "prompt_number": 20
    },
    {
     "cell_type": "code",
     "collapsed": false,
     "input": [
      "my_json=\"data.json\"\n",
      "\n",
      "with open(my_json, \"wb\") as j:\n",
      "    json.dump(data_list, j)"
     ],
     "language": "python",
     "metadata": {},
     "outputs": [],
     "prompt_number": 169
    }
   ],
   "metadata": {}
  }
 ]
}